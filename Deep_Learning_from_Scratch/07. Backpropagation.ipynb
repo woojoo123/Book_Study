{
 "cells": [
  {
   "cell_type": "markdown",
   "metadata": {},
   "source": [
    "# Simple Layer"
   ]
  },
  {
   "cell_type": "code",
   "execution_count": 1,
   "metadata": {},
   "outputs": [],
   "source": [
    "class MulLayer:\n",
    "    def __init__(self):\n",
    "        self.x = None\n",
    "        self.y = None\n",
    "\n",
    "    def forward(self, x, y):\n",
    "        self.x = x\n",
    "        self.y = y\n",
    "        out = x * y\n",
    "\n",
    "        return out\n",
    "    \n",
    "    def backward(self, dout):\n",
    "        dx = dout * self.y  # x와 y를 바꾼다.\n",
    "        dy = dout * self.x\n",
    "\n",
    "        return dx, dy"
   ]
  },
  {
   "cell_type": "code",
   "execution_count": 2,
   "metadata": {},
   "outputs": [
    {
     "name": "stdout",
     "output_type": "stream",
     "text": [
      "220.00000000000003\n"
     ]
    }
   ],
   "source": [
    "apple = 100\n",
    "apple_num = 2\n",
    "tax = 1.1\n",
    "\n",
    "# layers\n",
    "mul_apple_layer = MulLayer()\n",
    "mul_tax_layer = MulLayer()\n",
    "\n",
    "# forward\n",
    "apple_price = mul_apple_layer.forward(apple, apple_num)\n",
    "price = mul_tax_layer.forward(apple_price, tax)\n",
    "\n",
    "print(price)"
   ]
  },
  {
   "cell_type": "code",
   "execution_count": 4,
   "metadata": {},
   "outputs": [
    {
     "name": "stdout",
     "output_type": "stream",
     "text": [
      "2.2 110.00000000000001 200\n"
     ]
    }
   ],
   "source": [
    "# backward\n",
    "dprice = 1\n",
    "dapple_price, dtax = mul_tax_layer.backward(dprice)\n",
    "dapple, dapple_num = mul_apple_layer.backward(dapple_price)\n",
    "\n",
    "print(dapple, dapple_num, dtax)"
   ]
  },
  {
   "cell_type": "code",
   "execution_count": 5,
   "metadata": {},
   "outputs": [],
   "source": [
    "class AddLayer:\n",
    "    def __init__(self):\n",
    "        pass\n",
    "\n",
    "    def forward(self, x, y):\n",
    "        out = x + y\n",
    "        return out\n",
    "    \n",
    "    def backward(self, dout):\n",
    "        dx = dout * 1\n",
    "        dy = dout * 1\n",
    "        return dx, dy"
   ]
  },
  {
   "cell_type": "code",
   "execution_count": 6,
   "metadata": {},
   "outputs": [
    {
     "name": "stdout",
     "output_type": "stream",
     "text": [
      "715.0000000000001\n",
      "110.00000000000001 2.2 3.3000000000000003 165.0 650\n"
     ]
    }
   ],
   "source": [
    "apple = 100\n",
    "apple_num = 2\n",
    "orange = 150\n",
    "orange_num = 3\n",
    "tax = 1.1\n",
    "\n",
    "# layers\n",
    "mul_apple_layer = MulLayer()\n",
    "mul_orange_layer = MulLayer()\n",
    "mul_apple_orange_layer = AddLayer()\n",
    "mul_tax_layer = MulLayer()\n",
    "\n",
    "# forward\n",
    "apple_price = mul_apple_layer.forward(apple, apple_num)\n",
    "orange_price = mul_orange_layer.forward(orange, orange_num)\n",
    "all_price = mul_apple_orange_layer.forward(apple_price, orange_price)\n",
    "price = mul_tax_layer.forward(all_price, tax)\n",
    "\n",
    "# backward\n",
    "dprice = 1\n",
    "dall_price, dtax = mul_tax_layer.backward(dprice)\n",
    "dapple_price, dorange_price = mul_apple_orange_layer.backward(dall_price)\n",
    "dorange, dorange_num = mul_orange_layer.backward(dorange_price)\n",
    "dapple, dapple_num = mul_apple_layer.backward(dapple_price)\n",
    "\n",
    "print(price)\n",
    "print(dapple_num, dapple, dorange, dorange_num, dtax)"
   ]
  },
  {
   "cell_type": "markdown",
   "metadata": {},
   "source": [
    "# Activate Function Layer"
   ]
  },
  {
   "cell_type": "code",
   "execution_count": 38,
   "metadata": {},
   "outputs": [],
   "source": [
    "from data.functions import *\n",
    "\n",
    "class Relu:\n",
    "    def __init__(self):\n",
    "        self.mask = None\n",
    "\n",
    "    def forward(self, x):\n",
    "        self.mask = (x <= 0)\n",
    "        out = x.copy()\n",
    "        out[self.mask] = 0\n",
    "\n",
    "        return out\n",
    "    \n",
    "    def backward(self, dout):\n",
    "        dout[self.mask] = 0\n",
    "        dx = dout\n",
    "        \n",
    "        return dx\n",
    "    \n",
    "\n",
    "class Sigmoid:\n",
    "    def __init__(self):\n",
    "        self.out = None\n",
    "\n",
    "    def forward(self, x):\n",
    "        out = sigmoid(x)\n",
    "        self.out = out\n",
    "\n",
    "        return out\n",
    "    \n",
    "    def backward(self, dout):\n",
    "        dx = dout * (1.0 - self.out) * self.out\n",
    "\n",
    "        return dx\n",
    "    \n",
    "class SoftmaxWithLoss:\n",
    "    def __init__(self):\n",
    "        self.loss = None\n",
    "        self.y = None\n",
    "        self.t = None\n",
    "\n",
    "    def forward(self, x, t):\n",
    "        self.t = t\n",
    "        self.y = softmax(x)\n",
    "        self.loss = cross_entropy_error(self.y, self.t)\n",
    "        return self.loss\n",
    "    \n",
    "    def backward(self, dout=1):\n",
    "        batch_size = self.t.shape[0]\n",
    "        if self.t.size == self.y.size:  # 정답 레이블이 원-핫 인코딩일 때\n",
    "            dx = (self.y - self.t) / batch_size\n",
    "        else:\n",
    "            dx = self.y.copy()\n",
    "            dx[np.arange(batch_size), self.t] -= 1\n",
    "            dx = dx / batch_size\n",
    "        return dx"
   ]
  },
  {
   "cell_type": "markdown",
   "metadata": {},
   "source": [
    "# Affine Layer"
   ]
  },
  {
   "cell_type": "code",
   "execution_count": 12,
   "metadata": {},
   "outputs": [],
   "source": [
    "class Affine:\n",
    "    def __init__(self, W, b):\n",
    "        self.W = W\n",
    "        self.b = b\n",
    "        self.x = None\n",
    "        self.dW = None\n",
    "        self.db = None\n",
    "    \n",
    "    def forward(self, x):\n",
    "        self.x = x\n",
    "        out = np.dot(x, self.W) + self.b\n",
    "        \n",
    "        return out\n",
    "    \n",
    "    def backward(self, dout):\n",
    "        dx = np.dot(dout, self.W.T)\n",
    "        self.dW = np.dot(self.x.T, dout)\n",
    "        self.db = np.sum(dout, axis=0)"
   ]
  },
  {
   "cell_type": "markdown",
   "metadata": {},
   "source": [
    "# Neural Network"
   ]
  },
  {
   "cell_type": "code",
   "execution_count": 19,
   "metadata": {},
   "outputs": [],
   "source": [
    "from collections import OrderedDict\n",
    "from data.layers import *\n",
    "from data.gradient import numerical_gradient\n",
    "from data.functions import *\n",
    "\n",
    "class TwoLayerNet:\n",
    "\n",
    "    def __init__(self, input_size, hidden_size, output_size, weight_init_std=0.01):\n",
    "\n",
    "        # weight 초기화\n",
    "        self.params = {}\n",
    "        self.params['W1'] = weight_init_std * np.random.randn(input_size, hidden_size)\n",
    "        self.params['b1'] = np.zeros(hidden_size)\n",
    "        self.params['W2'] = weight_init_std * np.random.randn(hidden_size, output_size)\n",
    "        self.params['b2'] = np.zeros(output_size)\n",
    "\n",
    "        # layer 생성\n",
    "        self.layers = OrderedDict()\n",
    "        self.layers['Affine1'] = Affine(self.params['W1'], self.params['b1'])\n",
    "        self.layers['Relu1'] = Relu()\n",
    "        self.layers['Affine2'] = Affine(self.params['W2'], self.params['b2'])\n",
    "        self.lastLayer = SoftmaxWithLoss()\n",
    "\n",
    "    def predict(self, x):\n",
    "        for layer in self.layers.values():\n",
    "            x = layer.forward(x)\n",
    "        \n",
    "        return x\n",
    "    \n",
    "    def loss(self, x, t):\n",
    "        y = self.predict(x)\n",
    "        return self.lastLayer.forward(y, t)\n",
    "    \n",
    "    def accuracy(self, x, t):\n",
    "        y = self.predict(x)\n",
    "        y = np.argmax(y, axis=1)\n",
    "        if t.ndim != 1:  # 정답 레이블이 원-핫 인코딩일시\n",
    "            t = np.argmax(t, axis=1)\n",
    "\n",
    "        accuracy = np.sum(y == t) / float(x.shape[0])\n",
    "        return accuracy\n",
    "    \n",
    "    def numerical_gradient(self, x, t):\n",
    "        loss_W = lambda W : self.loss(x, t)\n",
    "\n",
    "        grads = {}\n",
    "        grads['W1'] = numerical_gradient(loss_W, self.params['W1'])\n",
    "        grads['b1'] = numerical_gradient(loss_W, self.params['b1'])\n",
    "        grads['W2'] = numerical_gradient(loss_W, self.params['W2'])\n",
    "        grads['b2'] = numerical_gradient(loss_W, self.params['b2'])\n",
    "        return grads\n",
    "    \n",
    "    def gradient(self, x, t):\n",
    "\n",
    "        # forward\n",
    "        self.loss(x, t)\n",
    "        \n",
    "        # backward\n",
    "        dout = 1\n",
    "        dout = self.lastLayer.backward(dout)\n",
    "\n",
    "        layers = list(self.layers.values())\n",
    "        layers.reverse()\n",
    "        for layer in layers:\n",
    "            dout = layer.backward(dout)\n",
    "\n",
    "        # result save\n",
    "        grads = {}\n",
    "        grads['W1'] = self.layers['Affine1'].dW\n",
    "        grads['b1'] = self.layers['Affine1'].db\n",
    "        grads['W2'] = self.layers['Affine2'].dW\n",
    "        grads['b2'] = self.layers['Affine2'].db\n",
    "\n",
    "        return grads"
   ]
  },
  {
   "cell_type": "code",
   "execution_count": null,
   "metadata": {},
   "outputs": [
    {
     "name": "stdout",
     "output_type": "stream",
     "text": [
      "0.11705 0.126\n",
      "0.5835 0.5889\n",
      "0.77425 0.782\n",
      "0.8433 0.8482\n",
      "0.8696 0.8742\n",
      "0.8826666666666667 0.8864\n",
      "0.8909166666666667 0.893\n",
      "0.8968 0.8989\n",
      "0.9013 0.9021\n",
      "0.9042333333333333 0.9063\n",
      "0.907 0.9087\n",
      "0.9092166666666667 0.9124\n",
      "0.9116 0.9142\n",
      "0.91365 0.9175\n",
      "0.9155333333333333 0.9187\n",
      "0.9168666666666667 0.9199\n",
      "0.9190166666666667 0.9202\n"
     ]
    }
   ],
   "source": [
    "from data.mnist import load_mnist\n",
    "import numpy as np\n",
    "\n",
    "(x_train, t_train), (x_test, t_test) = load_mnist(normalize=True, one_hot_label=True)\n",
    "\n",
    "network = TwoLayerNet(input_size=784, hidden_size=50, output_size=10)\n",
    "\n",
    "iters_num = 10000\n",
    "train_size = x_train.shape[0]\n",
    "batch_size = 100\n",
    "learning_rate = 0.01\n",
    "    \n",
    "train_loss_list = []\n",
    "train_acc_list = []\n",
    "test_acc_list = []\n",
    "\n",
    "iter_per_epoch = max(train_size / batch_size, 1)\n",
    "\n",
    "for i in range(iters_num):\n",
    "    batch_mask = np.random.choice(train_size, batch_size)\n",
    "    x_batch = x_train[batch_mask]\n",
    "    t_batch = t_train[batch_mask]\n",
    "\n",
    "    grad = network.gradient(x_batch, t_batch)\n",
    "\n",
    "    for key in ('W1', 'b1', 'W2', 'b2'):\n",
    "        network.params[key] -= learning_rate * grad[key]\n",
    "\n",
    "    loss = network.loss(x_batch, t_batch)\n",
    "    train_loss_list.append(loss)\n",
    "\n",
    "    if i % iter_per_epoch == 0:\n",
    "        train_acc = network.accuracy(x_train, t_train) \n",
    "        test_acc = network.accuracy(x_test, t_test)\n",
    "        train_acc_list.append(train_acc)\n",
    "        test_acc_list.append(test_acc)\n",
    "        print(train_acc, test_acc)"
   ]
  },
  {
   "cell_type": "markdown",
   "metadata": {},
   "source": [
    "# Gradient Check"
   ]
  },
  {
   "cell_type": "code",
   "execution_count": 23,
   "metadata": {},
   "outputs": [
    {
     "name": "stdout",
     "output_type": "stream",
     "text": [
      "W1:3.98491226933777e-10\n",
      "b1:2.21131190190259e-09\n",
      "W2:5.0083029101545096e-09\n",
      "b2:1.4055765520937236e-07\n"
     ]
    }
   ],
   "source": [
    "from data.mnist import load_mnist\n",
    "\n",
    "(x_train, t_train), (x_test, t_test) = load_mnist(normalize=True, one_hot_label=True)\n",
    "\n",
    "network = TwoLayerNet(input_size=784, hidden_size=50, output_size=10)\n",
    "\n",
    "x_batch = x_train[:3]\n",
    "t_batch = t_train[:3]\n",
    "\n",
    "grad_numerical = network.numerical_gradient(x_batch, t_batch)\n",
    "grad_backprop = network.gradient(x_batch, t_batch)\n",
    "\n",
    "for key in grad_numerical.keys():\n",
    "    diff = np.average(np.abs(grad_backprop[key] - grad_numerical[key]))\n",
    "    print(key + ':' + str(diff))"
   ]
  },
  {
   "cell_type": "markdown",
   "metadata": {},
   "source": [
    "# Probability Distribution"
   ]
  },
  {
   "cell_type": "code",
   "execution_count": 41,
   "metadata": {},
   "outputs": [
    {
     "data": {
      "image/png": "[encoded data removed]",
      "text/plain": [
       "<Figure size 640x480 with 1 Axes>"
      ]
     },
     "metadata": {},
     "output_type": "display_data"
    },
    {
     "name": "stdout",
     "output_type": "stream",
     "text": [
      "[[0.099702   0.10011807 0.09959121 0.10026928 0.1000813  0.10007364\n",
      "  0.10069577 0.09908766 0.09922925 0.10115182]]\n",
      "[[0.1093893  0.08888504 0.09158293 0.10784292 0.0977331  0.10058299\n",
      "  0.09679854 0.10421263 0.09854849 0.10442407]]\n",
      "[[0.01875556 0.01948155 0.01634175 0.04708465 0.12300107 0.05917601\n",
      "  0.01008718 0.37396973 0.06321103 0.26889147]]\n",
      "[[2.27785727e-03 1.02003477e-03 1.37206169e-03 8.95432024e-03\n",
      "  2.06780095e-02 9.92133294e-03 1.98455025e-04 8.02043081e-01\n",
      "  1.45224892e-02 1.39012359e-01]]\n",
      "[[5.08347181e-04 9.42212089e-05 3.71674720e-04 2.23873600e-03\n",
      "  1.24588891e-03 1.55120189e-03 8.85956486e-06 9.41498430e-01\n",
      "  2.07229474e-03 5.04103463e-02]]\n",
      "[[4.75053907e-04 4.06996667e-05 2.69014621e-04 1.91412621e-03\n",
      "  2.75273441e-04 4.98435563e-04 1.80622957e-06 9.70242989e-01\n",
      "  8.67029612e-04 2.54155720e-02]]\n",
      "[[3.84750191e-04 1.19505993e-05 2.00482205e-04 1.49436959e-03\n",
      "  6.39654723e-05 1.97269559e-04 5.69183242e-07 9.78768906e-01\n",
      "  3.21701962e-04 1.85560354e-02]]\n",
      "[[1.63890701e-04 3.50035497e-06 1.25333650e-04 6.37926277e-04\n",
      "  1.24780492e-05 5.19225916e-05 1.97083871e-07 9.89609403e-01\n",
      "  1.31379051e-04 9.26396907e-03]]\n",
      "[[3.24761855e-04 6.15513712e-06 1.73462176e-04 1.12473733e-03\n",
      "  1.16572636e-05 9.88527916e-05 1.77100865e-07 9.88269277e-01\n",
      "  2.19800871e-04 9.77111802e-03]]\n",
      "[[1.99998633e-04 3.04228221e-06 1.88952605e-04 1.34766139e-03\n",
      "  6.64572175e-06 5.60285932e-05 1.07399462e-07 9.90675360e-01\n",
      "  1.37887921e-04 7.38431589e-03]]\n",
      "[[1.66036732e-04 1.54919416e-06 9.26637851e-05 5.49768125e-04\n",
      "  2.91354537e-06 5.65770055e-05 6.14840289e-08 9.94582805e-01\n",
      "  9.57799959e-05 4.45184471e-03]]\n",
      "[[1.39410370e-04 1.40843868e-06 1.70871690e-04 1.00278607e-03\n",
      "  4.75845209e-06 3.59303548e-05 6.82193752e-08 9.94778114e-01\n",
      "  9.46952694e-05 3.77195690e-03]]\n",
      "[[1.51886845e-04 1.49490934e-06 1.26458896e-04 1.03157457e-03\n",
      "  3.69572607e-06 3.83553993e-05 4.27181372e-08 9.93733906e-01\n",
      "  1.22586051e-04 4.78999934e-03]]\n",
      "[[9.39237516e-05 1.25189700e-06 1.94757228e-04 1.05007103e-03\n",
      "  5.15766306e-06 3.22374092e-05 4.21432494e-08 9.94314029e-01\n",
      "  1.36929364e-04 4.17160081e-03]]\n",
      "[[1.00197139e-04 9.53379515e-07 2.25405057e-04 1.88829769e-03\n",
      "  3.30412386e-06 3.49228951e-05 4.05813775e-08 9.94054382e-01\n",
      "  1.39023526e-04 3.55347349e-03]]\n",
      "[[1.41810766e-04 1.75503315e-06 4.57889334e-04 2.02147087e-03\n",
      "  3.67300978e-06 4.77526249e-05 6.98161905e-08 9.92557865e-01\n",
      "  1.60462268e-04 4.60725165e-03]]\n"
     ]
    },
    {
     "data": {
      "image/png": "[encoded data removed]",
      "text/plain": [
       "<Figure size 1000x1000 with 16 Axes>"
      ]
     },
     "metadata": {},
     "output_type": "display_data"
    }
   ],
   "source": [
    "from data.mnist import load_mnist\n",
    "import matplotlib.pyplot as plt\n",
    "from data.functions import *\n",
    "\n",
    "\n",
    "(x_train, t_train), (x_test, t_test) = load_mnist(normalize=True, one_hot_label=True)\n",
    "\n",
    "sample = x_test[0]\n",
    "\n",
    "plt.figure()\n",
    "plt.imshow(sample.reshape(28, 28), cmap=plt.cm.binary)\n",
    "plt.xticks([])\n",
    "plt.yticks([])\n",
    "plt.show()\n",
    "\n",
    "network = TwoLayerNet(input_size=784, hidden_size=50, output_size=10)\n",
    "\n",
    "iters_num = 1000\n",
    "eval_interval = 50\n",
    "train_size = x_train.shape[0]\n",
    "batch_size = 100\n",
    "learning_rate = 0.1\n",
    "\n",
    "iter_per_epoch = max(train_size / batch_size, 1)\n",
    "\n",
    "plt.figure(figsize=(10, 10))\n",
    "for i in range(iters_num):\n",
    "    batch_mask = np.random.choice(train_size, batch_size)\n",
    "    x_batch = x_train[batch_mask]\n",
    "    t_batch = t_train[batch_mask]\n",
    "\n",
    "    grad = network.gradient(x_batch, t_batch)\n",
    "\n",
    "    for key in ('W1', 'b1', 'W2', 'b2'):\n",
    "        network.params[key] -= learning_rate * grad[key]\n",
    "\n",
    "    if (i % eval_interval == 0) & ((i//eval_interval) < 16):\n",
    "        probability = softmax(network.predict(sample.reshape(1, 784)))\n",
    "        print(probability)\n",
    "        plt.subplot(4, 4, int((i//eval_interval) + 1))\n",
    "        plt.bar(range(len(probability[0])), probability[0])\n",
    "        plt.ylim(0, 1.0)\n",
    "plt.show()"
   ]
  },
  {
   "cell_type": "code",
   "execution_count": 42,
   "metadata": {},
   "outputs": [
    {
     "data": {
      "image/png": "[encoded data removed]",
      "text/plain": [
       "<Figure size 640x480 with 1 Axes>"
      ]
     },
     "metadata": {},
     "output_type": "display_data"
    },
    {
     "name": "stdout",
     "output_type": "stream",
     "text": [
      "[[0.10073697 0.10128102 0.09942889 0.10123373 0.09998665 0.09968899\n",
      "  0.09888658 0.0987436  0.10030388 0.09970969]]\n",
      "[[0.095078   0.11076401 0.11204256 0.11065873 0.09570218 0.09279645\n",
      "  0.10071447 0.09267898 0.09946608 0.09009853]]\n",
      "[[0.03366365 0.15341056 0.12678306 0.10252067 0.09767936 0.08782944\n",
      "  0.12581848 0.04753956 0.14019619 0.08455903]]\n",
      "[[0.00912869 0.14260505 0.08886151 0.06750971 0.13411987 0.08545175\n",
      "  0.12365074 0.02367549 0.19293662 0.13206057]]\n",
      "[[0.00398116 0.14536902 0.08010678 0.05354714 0.20766835 0.06781864\n",
      "  0.11552813 0.01888054 0.17918056 0.12791968]]\n",
      "[[0.00244847 0.10557097 0.03697153 0.04652521 0.28949837 0.07777752\n",
      "  0.08080237 0.00972063 0.17977938 0.17090557]]\n",
      "[[0.00167324 0.10278997 0.05864129 0.04513568 0.25684286 0.05073888\n",
      "  0.07789791 0.01219029 0.20124499 0.1928449 ]]\n",
      "[[0.00113869 0.08283854 0.05503626 0.05082315 0.27861824 0.03766279\n",
      "  0.08045814 0.00757936 0.21593724 0.18990759]]\n",
      "[[0.00133173 0.08161324 0.04530923 0.03212935 0.25955123 0.03182339\n",
      "  0.06217272 0.00670856 0.23917303 0.24018752]]\n",
      "[[0.00107123 0.0550896  0.03563806 0.03123359 0.29779027 0.02251626\n",
      "  0.06612239 0.00735293 0.18792888 0.2952568 ]]\n",
      "[[0.00064564 0.03848582 0.01356727 0.01243155 0.34511097 0.01616358\n",
      "  0.04947574 0.00953402 0.0921906  0.42239481]]\n",
      "[[0.00073011 0.03480759 0.02301449 0.0333798  0.25837581 0.01579041\n",
      "  0.050177   0.00670647 0.14020698 0.43681134]]\n",
      "[[0.00084655 0.04147245 0.01894297 0.02763623 0.29684684 0.0166536\n",
      "  0.03370934 0.00610582 0.11734046 0.44044574]]\n",
      "[[0.00062642 0.03361886 0.01288553 0.02630676 0.26738368 0.01674812\n",
      "  0.03027204 0.00982659 0.11823596 0.48409603]]\n",
      "[[4.80400896e-04 3.38410812e-02 1.25348204e-02 2.40419206e-02\n",
      "  2.75713869e-01 1.48369157e-02 2.31553817e-02 9.26847218e-03\n",
      "  1.13722099e-01 4.92405039e-01]]\n",
      "[[5.04876750e-04 3.15942364e-02 1.46461374e-02 2.86720215e-02\n",
      "  2.19779230e-01 1.19296752e-02 3.01561835e-02 8.72230102e-03\n",
      "  1.07600899e-01 5.46394439e-01]]\n"
     ]
    },
    {
     "data": {
      "image/png": "[encoded data removed]",
      "text/plain": [
       "<Figure size 1000x1000 with 16 Axes>"
      ]
     },
     "metadata": {},
     "output_type": "display_data"
    }
   ],
   "source": [
    "from data.mnist import load_mnist\n",
    "import matplotlib.pyplot as plt\n",
    "from data.functions import *\n",
    "\n",
    "\n",
    "(x_train, t_train), (x_test, t_test) = load_mnist(normalize=True, one_hot_label=True)\n",
    "\n",
    "sample = x_test[149]\n",
    "\n",
    "plt.figure()\n",
    "plt.imshow(sample.reshape(28, 28), cmap=plt.cm.binary)\n",
    "plt.xticks([])\n",
    "plt.yticks([])\n",
    "plt.show()\n",
    "\n",
    "network = TwoLayerNet(input_size=784, hidden_size=50, output_size=10)\n",
    "\n",
    "iters_num = 1000\n",
    "eval_interval = 50\n",
    "train_size = x_train.shape[0]\n",
    "batch_size = 100\n",
    "learning_rate = 0.1\n",
    "\n",
    "iter_per_epoch = max(train_size / batch_size, 1)\n",
    "\n",
    "plt.figure(figsize=(10, 10))\n",
    "for i in range(iters_num):\n",
    "    batch_mask = np.random.choice(train_size, batch_size)\n",
    "    x_batch = x_train[batch_mask]\n",
    "    t_batch = t_train[batch_mask]\n",
    "\n",
    "    grad = network.gradient(x_batch, t_batch)\n",
    "\n",
    "    for key in ('W1', 'b1', 'W2', 'b2'):\n",
    "        network.params[key] -= learning_rate * grad[key]\n",
    "\n",
    "    if (i % eval_interval == 0) & ((i//eval_interval) < 16):\n",
    "        probability = softmax(network.predict(sample.reshape(1, 784)))\n",
    "        print(probability)\n",
    "        plt.subplot(4, 4, int((i//eval_interval) + 1))\n",
    "        plt.bar(range(len(probability[0])), probability[0])\n",
    "        plt.ylim(0, 1.0)\n",
    "plt.show()"
   ]
  },
  {
   "cell_type": "code",
   "execution_count": null,
   "metadata": {},
   "outputs": [],
   "source": []
  }
 ],
 "metadata": {
  "kernelspec": {
   "display_name": "ds_study",
   "language": "python",
   "name": "python3"
  },
  "language_info": {
   "codemirror_mode": {
    "name": "ipython",
    "version": 3
   },
   "file_extension": ".py",
   "mimetype": "text/x-python",
   "name": "python",
   "nbconvert_exporter": "python",
   "pygments_lexer": "ipython3",
   "version": "3.8.20"
  }
 },
 "nbformat": 4,
 "nbformat_minor": 2
}
