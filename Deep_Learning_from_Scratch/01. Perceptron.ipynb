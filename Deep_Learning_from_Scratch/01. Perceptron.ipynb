{
 "cells": [
  {
   "cell_type": "code",
   "execution_count": 1,
   "metadata": {},
   "outputs": [],
   "source": [
    "import numpy as np"
   ]
  },
  {
   "cell_type": "code",
   "execution_count": null,
   "metadata": {},
   "outputs": [],
   "source": [
    "def AND(x1, x2):\n",
    "    x = np.array([x1, x2])\n",
    "    w = np.array([0.5, 0.5])\n",
    "    b = -0.7\n",
    "    tmp = np.sum(w*x) + b\n",
    "    if tmp <= 0:\n",
    "        return 0\n",
    "    else:\n",
    "        return 1\n",
    "    \n",
    "def NAND(x1, x2):\n",
    "    x = np.array([x1, x2])\n",
    "    w = np.array([-0.5, -0.5])\n",
    "    b = 0.7\n",
    "    tmp = np.sum(w*x) + b\n",
    "    if tmp <= 0:\n",
    "        return 0\n",
    "    else:\n",
    "        return 1\n",
    "    \n",
    "def OR(x1, x2):\n",
    "    x = np.array([x1, x2])\n",
    "    w = np.array([0.5, 0.5])\n",
    "    b = -0.2\n",
    "    tmp = np.sum(w*x) + b\n",
    "    if tmp <= 0:\n",
    "        return 0\n",
    "    else:\n",
    "        return 1\n",
    "    \n",
    "def XOR(x1, x2):\n",
    "    s1 = NAND(x1, x2)\n",
    "    s2 = OR(x2, x2)\n",
    "    y = AND(s1, s2)\n",
    "    return y"
   ]
  },
  {
   "cell_type": "code",
   "execution_count": 6,
   "metadata": {},
   "outputs": [
    {
     "name": "stdout",
     "output_type": "stream",
     "text": [
      "AND\n",
      "(0, 0)->0\n",
      "AND\n",
      "(1, 0)->0\n",
      "AND\n",
      "(0, 1)->0\n",
      "AND\n",
      "(1, 1)->1\n",
      "\n",
      "NAND\n",
      "(0, 0)->1\n",
      "NAND\n",
      "(1, 0)->1\n",
      "NAND\n",
      "(0, 1)->1\n",
      "NAND\n",
      "(1, 1)->0\n",
      "\n",
      "OR\n",
      "(0, 0)->0\n",
      "OR\n",
      "(1, 0)->1\n",
      "OR\n",
      "(0, 1)->1\n",
      "OR\n",
      "(1, 1)->1\n",
      "\n",
      "XOR\n",
      "(0, 0)->0\n",
      "XOR\n",
      "(1, 0)->0\n",
      "XOR\n",
      "(0, 1)->1\n",
      "XOR\n",
      "(1, 1)->0\n"
     ]
    }
   ],
   "source": [
    "for xs in [(0,0), (1,0), (0,1), (1,1)]:\n",
    "    y = AND(xs[0], xs[1])\n",
    "    print('AND')\n",
    "    print(str(xs) + '->' + str(y))\n",
    "print()\n",
    "\n",
    "for xs in [(0,0), (1,0), (0,1), (1,1)]:\n",
    "    y = NAND(xs[0], xs[1])\n",
    "    print('NAND')\n",
    "    print(str(xs) + '->' + str(y))\n",
    "print()\n",
    "\n",
    "for xs in [(0,0), (1,0), (0,1), (1,1)]:\n",
    "    y = OR(xs[0], xs[1])\n",
    "    print('OR')\n",
    "    print(str(xs) + '->' + str(y))\n",
    "print()\n",
    "\n",
    "for xs in [(0,0), (1,0), (0,1), (1,1)]:\n",
    "    y = XOR(xs[0], xs[1])\n",
    "    print('XOR')\n",
    "    print(str(xs) + '->' + str(y))"
   ]
  },
  {
   "cell_type": "code",
   "execution_count": null,
   "metadata": {},
   "outputs": [],
   "source": []
  }
 ],
 "metadata": {
  "kernelspec": {
   "display_name": "ds_study",
   "language": "python",
   "name": "python3"
  },
  "language_info": {
   "codemirror_mode": {
    "name": "ipython",
    "version": 3
   },
   "file_extension": ".py",
   "mimetype": "text/x-python",
   "name": "python",
   "nbconvert_exporter": "python",
   "pygments_lexer": "ipython3",
   "version": "3.8.20"
  }
 },
 "nbformat": 4,
 "nbformat_minor": 2
}
